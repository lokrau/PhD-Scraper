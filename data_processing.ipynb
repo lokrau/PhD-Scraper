{
 "cells": [
  {
   "cell_type": "markdown",
   "id": "53fc9f2d",
   "metadata": {},
   "source": [
    "# Notebook to use the data got from the PhD scraper"
   ]
  },
  {
   "cell_type": "markdown",
   "id": "65eccb6d",
   "metadata": {},
   "source": [
    "## Define keywords of interest and countries to exclude"
   ]
  },
  {
   "cell_type": "code",
   "execution_count": 221,
   "id": "80f1202e",
   "metadata": {},
   "outputs": [],
   "source": [
    "keywords = ['Computer Vision']  # <- CUSTOMIZE THIS\n",
    "excluded_countries = ['England']  # <- CUSTOMIZE THIS\n",
    "included_countries = []  # <- CUSTOMIZE THIS (Overrides excluded_countries)"
   ]
  },
  {
   "cell_type": "markdown",
   "id": "bcb1c407",
   "metadata": {},
   "source": [
    "## Imports and data loading"
   ]
  },
  {
   "cell_type": "code",
   "execution_count": 222,
   "id": "da096a7e",
   "metadata": {},
   "outputs": [],
   "source": [
    "# Imports\n",
    "import pandas as pd\n",
    "import textwrap\n",
    "import re\n",
    "import os\n",
    "\n",
    "from dateutil import parser"
   ]
  },
  {
   "cell_type": "code",
   "execution_count": 223,
   "id": "db372d88",
   "metadata": {},
   "outputs": [
    {
     "data": {
      "text/html": [
       "<div>\n",
       "<style scoped>\n",
       "    .dataframe tbody tr th:only-of-type {\n",
       "        vertical-align: middle;\n",
       "    }\n",
       "\n",
       "    .dataframe tbody tr th {\n",
       "        vertical-align: top;\n",
       "    }\n",
       "\n",
       "    .dataframe thead th {\n",
       "        text-align: right;\n",
       "    }\n",
       "</style>\n",
       "<table border=\"1\" class=\"dataframe\">\n",
       "  <thead>\n",
       "    <tr style=\"text-align: right;\">\n",
       "      <th></th>\n",
       "      <th>university</th>\n",
       "      <th>title</th>\n",
       "      <th>description</th>\n",
       "      <th>application_deadline</th>\n",
       "      <th>application_link</th>\n",
       "      <th>source_url</th>\n",
       "    </tr>\n",
       "  </thead>\n",
       "  <tbody>\n",
       "    <tr>\n",
       "      <th>0</th>\n",
       "      <td>05 Fully Funded PhD Programs at Tampere Univer...</td>\n",
       "      <td>1. Fully Funded PhD Position in Robotics and AI</td>\n",
       "      <td>The Cognitive Robotics Group focuses on roboti...</td>\n",
       "      <td>2025-08-06</td>\n",
       "      <td>https://tuni.rekrytointi.com/paikat/?o=A_RJ&amp;jg...</td>\n",
       "      <td>https://fellowshipbard.com/05-fully-funded-phd...</td>\n",
       "    </tr>\n",
       "    <tr>\n",
       "      <th>1</th>\n",
       "      <td>05 Fully Funded PhD Programs at Tampere Univer...</td>\n",
       "      <td>2.Fully Funded PhD Position in speech technolo...</td>\n",
       "      <td>We are inviting applications for a doctoral re...</td>\n",
       "      <td>2025-08-26</td>\n",
       "      <td>https://tuni.rekrytointi.com/paikat/?o=A_RJ&amp;jg...</td>\n",
       "      <td>https://fellowshipbard.com/05-fully-funded-phd...</td>\n",
       "    </tr>\n",
       "    <tr>\n",
       "      <th>2</th>\n",
       "      <td>05 Fully Funded PhD Programs at Tampere Univer...</td>\n",
       "      <td>3. 02Fully Funded PhD Position in Power electr...</td>\n",
       "      <td>The research group of Power Electronics at the...</td>\n",
       "      <td>2025-09-01</td>\n",
       "      <td>https://tuni.rekrytointi.com/paikat/?o=A_RJ&amp;jg...</td>\n",
       "      <td>https://fellowshipbard.com/05-fully-funded-phd...</td>\n",
       "    </tr>\n",
       "    <tr>\n",
       "      <th>3</th>\n",
       "      <td>10 Fully Funded PhD Programs at University of ...</td>\n",
       "      <td>1. Fully Funded PhD Position in Systems pathol...</td>\n",
       "      <td>Being overweight is a known risk factor for de...</td>\n",
       "      <td>17 August 2025</td>\n",
       "      <td>https://www.jobs.cam.ac.uk/job/51872/</td>\n",
       "      <td>https://fellowshipbard.com/10-fully-funded-phd...</td>\n",
       "    </tr>\n",
       "    <tr>\n",
       "      <th>4</th>\n",
       "      <td>10 Fully Funded PhD Programs at University of ...</td>\n",
       "      <td>2.Fully Funded PhD Position in Small Animal Su...</td>\n",
       "      <td>You will help to facilitate the smooth running...</td>\n",
       "      <td>31 July 2025</td>\n",
       "      <td>https://www.jobs.cam.ac.uk/job/51451/</td>\n",
       "      <td>https://fellowshipbard.com/10-fully-funded-phd...</td>\n",
       "    </tr>\n",
       "  </tbody>\n",
       "</table>\n",
       "</div>"
      ],
      "text/plain": [
       "                                          university  \\\n",
       "0  05 Fully Funded PhD Programs at Tampere Univer...   \n",
       "1  05 Fully Funded PhD Programs at Tampere Univer...   \n",
       "2  05 Fully Funded PhD Programs at Tampere Univer...   \n",
       "3  10 Fully Funded PhD Programs at University of ...   \n",
       "4  10 Fully Funded PhD Programs at University of ...   \n",
       "\n",
       "                                               title  \\\n",
       "0    1. Fully Funded PhD Position in Robotics and AI   \n",
       "1  2.Fully Funded PhD Position in speech technolo...   \n",
       "2  3. 02Fully Funded PhD Position in Power electr...   \n",
       "3  1. Fully Funded PhD Position in Systems pathol...   \n",
       "4  2.Fully Funded PhD Position in Small Animal Su...   \n",
       "\n",
       "                                         description application_deadline  \\\n",
       "0  The Cognitive Robotics Group focuses on roboti...           2025-08-06   \n",
       "1  We are inviting applications for a doctoral re...           2025-08-26   \n",
       "2  The research group of Power Electronics at the...           2025-09-01   \n",
       "3  Being overweight is a known risk factor for de...       17 August 2025   \n",
       "4  You will help to facilitate the smooth running...         31 July 2025   \n",
       "\n",
       "                                    application_link  \\\n",
       "0  https://tuni.rekrytointi.com/paikat/?o=A_RJ&jg...   \n",
       "1  https://tuni.rekrytointi.com/paikat/?o=A_RJ&jg...   \n",
       "2  https://tuni.rekrytointi.com/paikat/?o=A_RJ&jg...   \n",
       "3              https://www.jobs.cam.ac.uk/job/51872/   \n",
       "4              https://www.jobs.cam.ac.uk/job/51451/   \n",
       "\n",
       "                                          source_url  \n",
       "0  https://fellowshipbard.com/05-fully-funded-phd...  \n",
       "1  https://fellowshipbard.com/05-fully-funded-phd...  \n",
       "2  https://fellowshipbard.com/05-fully-funded-phd...  \n",
       "3  https://fellowshipbard.com/10-fully-funded-phd...  \n",
       "4  https://fellowshipbard.com/10-fully-funded-phd...  "
      ]
     },
     "execution_count": 223,
     "metadata": {},
     "output_type": "execute_result"
    }
   ],
   "source": [
    "# Loading Data\n",
    "phd_positions = pd.read_csv(\"data/phd_positions.csv\")\n",
    "phd_positions.head()"
   ]
  },
  {
   "cell_type": "markdown",
   "id": "2439a293",
   "metadata": {},
   "source": [
    "## Basic cleaning"
   ]
  },
  {
   "cell_type": "markdown",
   "id": "07c5a654",
   "metadata": {},
   "source": [
    "### Split the 'university' column into 'university', 'town', and 'country'"
   ]
  },
  {
   "cell_type": "code",
   "execution_count": 224,
   "id": "ca337cc1",
   "metadata": {},
   "outputs": [],
   "source": [
    "# Extract the University after \"at\" the last two comma-separated parts as town and country\n",
    "phd_positions[['university_clean', 'town', 'country']] = phd_positions['university'].str.extract(r'at (.*),\\s*([^,]+),\\s*([^,]+)$')\n",
    "phd_positions.drop(columns=['university'], inplace=True)\n",
    "\n",
    "# Keep only the university name in the 'university_clean' column\n",
    "phd_positions = phd_positions.rename(columns={'university_clean': 'university'})"
   ]
  },
  {
   "cell_type": "markdown",
   "id": "c457cd71",
   "metadata": {},
   "source": [
    "### Delete rows where the 'application_deadline' is in the past"
   ]
  },
  {
   "cell_type": "code",
   "execution_count": 225,
   "id": "fa6fa943",
   "metadata": {},
   "outputs": [
    {
     "data": {
      "text/plain": [
       "(880, 8)"
      ]
     },
     "execution_count": 225,
     "metadata": {},
     "output_type": "execute_result"
    }
   ],
   "source": [
    "phd_positions.shape"
   ]
  },
  {
   "cell_type": "code",
   "execution_count": 226,
   "id": "b6c11429",
   "metadata": {},
   "outputs": [],
   "source": [
    "# function to parse the application deadline\n",
    "def parse_deadline(val):\n",
    "    if isinstance(val, str) and 'open until filled' in val.lower():\n",
    "        return 'Open until filled'\n",
    "    try:\n",
    "        # Use dateutil.parser to handle various date formats\n",
    "        return parser.parse(val, fuzzy=True).date()\n",
    "    except:\n",
    "        return pd.NaT"
   ]
  },
  {
   "cell_type": "code",
   "execution_count": 227,
   "id": "2bf70047",
   "metadata": {},
   "outputs": [
    {
     "data": {
      "text/plain": [
       "(725, 9)"
      ]
     },
     "execution_count": 227,
     "metadata": {},
     "output_type": "execute_result"
    }
   ],
   "source": [
    "# Today's date\n",
    "today = pd.Timestamp('today').normalize()\n",
    "\n",
    "# Apply parsing\n",
    "phd_positions['parsed_deadline'] = phd_positions['application_deadline'].apply(parse_deadline)\n",
    "\n",
    "# Filter out past deadlines (excluding \"Open until filled\")\n",
    "phd_positions_future = phd_positions[\n",
    "    (phd_positions['parsed_deadline'] == 'Open until filled') |\n",
    "    (pd.to_datetime(phd_positions['parsed_deadline'], errors='coerce') >= today)\n",
    "].copy()\n",
    "\n",
    "# Convert to consistent string format (e.g., YYYY-MM-DD)\n",
    "phd_positions_future['parsed_deadline'] = phd_positions_future['parsed_deadline'].apply(\n",
    "    lambda x: x if x == 'Open until filled' else pd.to_datetime(x).strftime('%Y-%m-%d')\n",
    ")\n",
    "\n",
    "phd_positions_future.shape"
   ]
  },
  {
   "cell_type": "markdown",
   "id": "c958f819",
   "metadata": {},
   "source": [
    "### Delete all rows that are double entries"
   ]
  },
  {
   "cell_type": "code",
   "execution_count": 228,
   "id": "90ff0f6f",
   "metadata": {},
   "outputs": [
    {
     "data": {
      "text/plain": [
       "(145, 9)"
      ]
     },
     "execution_count": 228,
     "metadata": {},
     "output_type": "execute_result"
    }
   ],
   "source": [
    "# delete double entries\n",
    "phd_positions_future = phd_positions_future.drop_duplicates(subset=['title', 'university', 'parsed_deadline', 'description'])\n",
    "\n",
    "phd_positions_future.shape"
   ]
  },
  {
   "cell_type": "markdown",
   "id": "c26edddb",
   "metadata": {},
   "source": [
    "## Filtering out the positions one is interested in"
   ]
  },
  {
   "cell_type": "code",
   "execution_count": 229,
   "id": "bb53200a",
   "metadata": {},
   "outputs": [
    {
     "data": {
      "text/html": [
       "<div>\n",
       "<style scoped>\n",
       "    .dataframe tbody tr th:only-of-type {\n",
       "        vertical-align: middle;\n",
       "    }\n",
       "\n",
       "    .dataframe tbody tr th {\n",
       "        vertical-align: top;\n",
       "    }\n",
       "\n",
       "    .dataframe thead th {\n",
       "        text-align: right;\n",
       "    }\n",
       "</style>\n",
       "<table border=\"1\" class=\"dataframe\">\n",
       "  <thead>\n",
       "    <tr style=\"text-align: right;\">\n",
       "      <th></th>\n",
       "      <th>title</th>\n",
       "      <th>description</th>\n",
       "      <th>application_deadline</th>\n",
       "      <th>application_link</th>\n",
       "      <th>source_url</th>\n",
       "      <th>university</th>\n",
       "      <th>town</th>\n",
       "      <th>country</th>\n",
       "      <th>parsed_deadline</th>\n",
       "      <th>search_text</th>\n",
       "    </tr>\n",
       "  </thead>\n",
       "  <tbody>\n",
       "    <tr>\n",
       "      <th>71</th>\n",
       "      <td>11.Fully Funded PhD Position in Applied Mathem...</td>\n",
       "      <td>Within our division, we have extensive experie...</td>\n",
       "      <td>27.Jul.2025</td>\n",
       "      <td>https://lu.varbi.com/en/what:job/jobID:825466/...</td>\n",
       "      <td>https://fellowshipbard.com/16-fully-funded-phd...</td>\n",
       "      <td>Lund University</td>\n",
       "      <td>Lund</td>\n",
       "      <td>Sweden</td>\n",
       "      <td>2025-07-27</td>\n",
       "      <td>11.fully funded phd position in applied mathem...</td>\n",
       "    </tr>\n",
       "  </tbody>\n",
       "</table>\n",
       "</div>"
      ],
      "text/plain": [
       "                                                title  \\\n",
       "71  11.Fully Funded PhD Position in Applied Mathem...   \n",
       "\n",
       "                                          description application_deadline  \\\n",
       "71  Within our division, we have extensive experie...          27.Jul.2025   \n",
       "\n",
       "                                     application_link  \\\n",
       "71  https://lu.varbi.com/en/what:job/jobID:825466/...   \n",
       "\n",
       "                                           source_url       university  town  \\\n",
       "71  https://fellowshipbard.com/16-fully-funded-phd...  Lund University  Lund   \n",
       "\n",
       "   country parsed_deadline                                        search_text  \n",
       "71  Sweden      2025-07-27  11.fully funded phd position in applied mathem...  "
      ]
     },
     "execution_count": 229,
     "metadata": {},
     "output_type": "execute_result"
    }
   ],
   "source": [
    "# Combine title and description, convert to lowercase\n",
    "phd_positions_future['search_text'] = (phd_positions_future['title'] + ' ' + phd_positions_future['description']).str.lower()\n",
    "\n",
    "# Create keyword match mask\n",
    "if keywords:\n",
    "    keyword_mask = phd_positions_future['search_text'].apply(lambda x: any(kw.lower() in x for kw in keywords))\n",
    "else:\n",
    "    keyword_mask = True  # include all rows if no keywords provided\n",
    "\n",
    "# Determine country mask based on inclusion or exclusion\n",
    "if included_countries:\n",
    "    country_mask = phd_positions_future['country'].isin(included_countries)\n",
    "else:\n",
    "    country_mask = ~phd_positions_future['country'].isin(excluded_countries)\n",
    "\n",
    "# Apply both filters\n",
    "phd_positions_filtered = phd_positions_future[keyword_mask & country_mask]\n",
    "\n",
    "phd_positions_filtered.head()"
   ]
  },
  {
   "cell_type": "code",
   "execution_count": 230,
   "id": "4e4ec056",
   "metadata": {},
   "outputs": [
    {
     "name": "stdout",
     "output_type": "stream",
     "text": [
      "Saved 1 PhD positions to: output/filtered_phd_positions.txt\n"
     ]
    }
   ],
   "source": [
    "# Define the output file\n",
    "output_file = 'output/filtered_phd_positions.txt'\n",
    "index = 1\n",
    "\n",
    "# make the output directory if it does not exist\n",
    "os.makedirs(\"output\", exist_ok=True)\n",
    "\n",
    "# Open file for writing\n",
    "with open(output_file, 'w', encoding='utf-8') as f:\n",
    "    for idx, row in phd_positions_filtered.iterrows():\n",
    "        # remove leading numbers in title\n",
    "        clean_title = re.sub(r'^\\s*\\d+\\.\\s*', '', row['title'])\n",
    "        # Wrap title and description\n",
    "        wrapped_title = textwrap.fill(clean_title, width=80)\n",
    "        wrapped_description = textwrap.fill(row['description'], width=80)\n",
    "\n",
    "        # Build the formatted entry\n",
    "        entry = (\n",
    "            f\"{'='*100}\\n\"\n",
    "            f\"PhD Position {index}\\n\"\n",
    "            f\"Title:\\n{wrapped_title}\\n\\n\"\n",
    "            f\"University: {row['university']}\\n\"\n",
    "            f\"Country: {row['country']}\\n\"\n",
    "            f\"Town: {row['town']}\\n\"\n",
    "            f\"Deadline: {row['parsed_deadline']}\\n\"\n",
    "            f\"Application Link: {row.get('application_link', 'N/A')}\\n\\n\"\n",
    "            f\"Description:\\n{wrapped_description}\\n\"\n",
    "        )\n",
    "\n",
    "        # Write to file\n",
    "        f.write(entry + \"\\n\")\n",
    "        index += 1\n",
    "\n",
    "print(f\"Saved {index-1} PhD positions to: {output_file}\")"
   ]
  }
 ],
 "metadata": {
  "kernelspec": {
   "display_name": "phd_scraper",
   "language": "python",
   "name": "python3"
  },
  "language_info": {
   "codemirror_mode": {
    "name": "ipython",
    "version": 3
   },
   "file_extension": ".py",
   "mimetype": "text/x-python",
   "name": "python",
   "nbconvert_exporter": "python",
   "pygments_lexer": "ipython3",
   "version": "3.11.9"
  }
 },
 "nbformat": 4,
 "nbformat_minor": 5
}
