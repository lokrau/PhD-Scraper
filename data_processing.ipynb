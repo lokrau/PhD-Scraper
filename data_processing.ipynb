{
 "cells": [
  {
   "cell_type": "markdown",
   "id": "53fc9f2d",
   "metadata": {},
   "source": [
    "# Notebook to use the data got from the PhD scraper"
   ]
  },
  {
   "cell_type": "markdown",
   "id": "65eccb6d",
   "metadata": {},
   "source": [
    "## Define keywords of interest and countries to exclude"
   ]
  },
  {
   "cell_type": "code",
   "execution_count": 31,
   "id": "80f1202e",
   "metadata": {},
   "outputs": [],
   "source": [
    "keywords = ['computer vision', 'deep learning', 'machine learning', \"ML\", \"AI\", \"artificial intelligence\"]  # <- CUSTOMIZE THIS\n",
    "excluded_countries = ['England']  # <- CUSTOMIZE THIS"
   ]
  },
  {
   "cell_type": "markdown",
   "id": "bcb1c407",
   "metadata": {},
   "source": [
    "## Imports and data loading"
   ]
  },
  {
   "cell_type": "code",
   "execution_count": 32,
   "id": "da096a7e",
   "metadata": {},
   "outputs": [],
   "source": [
    "# Imports\n",
    "import pandas as pd\n",
    "import datetime\n",
    "import textwrap\n",
    "import re\n",
    "\n",
    "from dateutil import parser"
   ]
  },
  {
   "cell_type": "code",
   "execution_count": 33,
   "id": "db372d88",
   "metadata": {},
   "outputs": [
    {
     "data": {
      "text/html": [
       "<div>\n",
       "<style scoped>\n",
       "    .dataframe tbody tr th:only-of-type {\n",
       "        vertical-align: middle;\n",
       "    }\n",
       "\n",
       "    .dataframe tbody tr th {\n",
       "        vertical-align: top;\n",
       "    }\n",
       "\n",
       "    .dataframe thead th {\n",
       "        text-align: right;\n",
       "    }\n",
       "</style>\n",
       "<table border=\"1\" class=\"dataframe\">\n",
       "  <thead>\n",
       "    <tr style=\"text-align: right;\">\n",
       "      <th></th>\n",
       "      <th>university</th>\n",
       "      <th>title</th>\n",
       "      <th>description</th>\n",
       "      <th>application_deadline</th>\n",
       "      <th>application_link</th>\n",
       "      <th>source_url</th>\n",
       "    </tr>\n",
       "  </thead>\n",
       "  <tbody>\n",
       "    <tr>\n",
       "      <th>0</th>\n",
       "      <td>10 Fully Funded PhD Programs at University of ...</td>\n",
       "      <td>1. Fully Funded PhD Position in Systems pathol...</td>\n",
       "      <td>Being overweight is a known risk factor for de...</td>\n",
       "      <td>17 August 2025</td>\n",
       "      <td>https://www.jobs.cam.ac.uk/job/51872/</td>\n",
       "      <td>https://fellowshipbard.com/10-fully-funded-phd...</td>\n",
       "    </tr>\n",
       "    <tr>\n",
       "      <th>1</th>\n",
       "      <td>10 Fully Funded PhD Programs at University of ...</td>\n",
       "      <td>2.Fully Funded PhD Position in Small Animal Su...</td>\n",
       "      <td>You will help to facilitate the smooth running...</td>\n",
       "      <td>31 July 2025</td>\n",
       "      <td>https://www.jobs.cam.ac.uk/job/51451/</td>\n",
       "      <td>https://fellowshipbard.com/10-fully-funded-phd...</td>\n",
       "    </tr>\n",
       "    <tr>\n",
       "      <th>2</th>\n",
       "      <td>10 Fully Funded PhD Programs at University of ...</td>\n",
       "      <td>3. 06Fully Funded PhD Position in Small Animal...</td>\n",
       "      <td>Junior Clinical Training Scholars will receive...</td>\n",
       "      <td>16 July 2025</td>\n",
       "      <td>https://www.jobs.cam.ac.uk/job/51450/</td>\n",
       "      <td>https://fellowshipbard.com/10-fully-funded-phd...</td>\n",
       "    </tr>\n",
       "    <tr>\n",
       "      <th>3</th>\n",
       "      <td>10 Fully Funded PhD Programs at University of ...</td>\n",
       "      <td>4.Fully Funded PhD Position in Identifying nov...</td>\n",
       "      <td>Malaria, caused by Plasmodium parasites and tr...</td>\n",
       "      <td>13 July 2025</td>\n",
       "      <td>https://www.jobs.cam.ac.uk/job/51587/</td>\n",
       "      <td>https://fellowshipbard.com/10-fully-funded-phd...</td>\n",
       "    </tr>\n",
       "    <tr>\n",
       "      <th>4</th>\n",
       "      <td>14 Fully Funded PhD Programs at Aalto Universi...</td>\n",
       "      <td>1. Fully Funded PhD Position in sustainable AI...</td>\n",
       "      <td>The rapid growth of artificial intelligence (A...</td>\n",
       "      <td>31.10.2025</td>\n",
       "      <td>https://www.aalto.fi/en/open-positions/doctora...</td>\n",
       "      <td>https://fellowshipbard.com/14-fully-funded-phd...</td>\n",
       "    </tr>\n",
       "  </tbody>\n",
       "</table>\n",
       "</div>"
      ],
      "text/plain": [
       "                                          university  \\\n",
       "0  10 Fully Funded PhD Programs at University of ...   \n",
       "1  10 Fully Funded PhD Programs at University of ...   \n",
       "2  10 Fully Funded PhD Programs at University of ...   \n",
       "3  10 Fully Funded PhD Programs at University of ...   \n",
       "4  14 Fully Funded PhD Programs at Aalto Universi...   \n",
       "\n",
       "                                               title  \\\n",
       "0  1. Fully Funded PhD Position in Systems pathol...   \n",
       "1  2.Fully Funded PhD Position in Small Animal Su...   \n",
       "2  3. 06Fully Funded PhD Position in Small Animal...   \n",
       "3  4.Fully Funded PhD Position in Identifying nov...   \n",
       "4  1. Fully Funded PhD Position in sustainable AI...   \n",
       "\n",
       "                                         description application_deadline  \\\n",
       "0  Being overweight is a known risk factor for de...       17 August 2025   \n",
       "1  You will help to facilitate the smooth running...         31 July 2025   \n",
       "2  Junior Clinical Training Scholars will receive...         16 July 2025   \n",
       "3  Malaria, caused by Plasmodium parasites and tr...         13 July 2025   \n",
       "4  The rapid growth of artificial intelligence (A...           31.10.2025   \n",
       "\n",
       "                                    application_link  \\\n",
       "0              https://www.jobs.cam.ac.uk/job/51872/   \n",
       "1              https://www.jobs.cam.ac.uk/job/51451/   \n",
       "2              https://www.jobs.cam.ac.uk/job/51450/   \n",
       "3              https://www.jobs.cam.ac.uk/job/51587/   \n",
       "4  https://www.aalto.fi/en/open-positions/doctora...   \n",
       "\n",
       "                                          source_url  \n",
       "0  https://fellowshipbard.com/10-fully-funded-phd...  \n",
       "1  https://fellowshipbard.com/10-fully-funded-phd...  \n",
       "2  https://fellowshipbard.com/10-fully-funded-phd...  \n",
       "3  https://fellowshipbard.com/10-fully-funded-phd...  \n",
       "4  https://fellowshipbard.com/14-fully-funded-phd...  "
      ]
     },
     "execution_count": 33,
     "metadata": {},
     "output_type": "execute_result"
    }
   ],
   "source": [
    "# Loading Data\n",
    "phd_positions = pd.read_csv(\"phd_positions.csv\")\n",
    "phd_positions.head()"
   ]
  },
  {
   "cell_type": "markdown",
   "id": "2439a293",
   "metadata": {},
   "source": [
    "## Basic cleaning"
   ]
  },
  {
   "cell_type": "markdown",
   "id": "07c5a654",
   "metadata": {},
   "source": [
    "### Split the 'university' column into 'university', 'town', and 'country'"
   ]
  },
  {
   "cell_type": "code",
   "execution_count": 34,
   "id": "ca337cc1",
   "metadata": {},
   "outputs": [],
   "source": [
    "# Extract the University after \"at\" the last two comma-separated parts as town and country\n",
    "phd_positions[['university_clean', 'town', 'country']] = phd_positions['university'].str.extract(r'at (.*),\\s*([^,]+),\\s*([^,]+)$')\n",
    "phd_positions.drop(columns=['university'], inplace=True)\n",
    "\n",
    "# Keep only the university name in the 'university_clean' column\n",
    "phd_positions = phd_positions.rename(columns={'university_clean': 'university'})"
   ]
  },
  {
   "cell_type": "markdown",
   "id": "c457cd71",
   "metadata": {},
   "source": [
    "### Delete rows where the 'application_deadline' is in the past"
   ]
  },
  {
   "cell_type": "code",
   "execution_count": 35,
   "id": "fa6fa943",
   "metadata": {},
   "outputs": [
    {
     "data": {
      "text/plain": [
       "(930, 8)"
      ]
     },
     "execution_count": 35,
     "metadata": {},
     "output_type": "execute_result"
    }
   ],
   "source": [
    "phd_positions.shape"
   ]
  },
  {
   "cell_type": "code",
   "execution_count": 36,
   "id": "b6c11429",
   "metadata": {},
   "outputs": [],
   "source": [
    "# function to parse the application deadline\n",
    "def parse_deadline(val):\n",
    "    if isinstance(val, str) and 'open until filled' in val.lower():\n",
    "        return 'Open until filled'\n",
    "    try:\n",
    "        # Use dateutil.parser to handle various date formats\n",
    "        return parser.parse(val, fuzzy=True).date()\n",
    "    except:\n",
    "        return pd.NaT"
   ]
  },
  {
   "cell_type": "code",
   "execution_count": 37,
   "id": "2bf70047",
   "metadata": {},
   "outputs": [
    {
     "name": "stderr",
     "output_type": "stream",
     "text": [
      "/var/folders/yw/h7pq8m2916x9_nlnpf_t3_jw0000gn/T/ipykernel_88153/371480631.py:14: SettingWithCopyWarning: \n",
      "A value is trying to be set on a copy of a slice from a DataFrame.\n",
      "Try using .loc[row_indexer,col_indexer] = value instead\n",
      "\n",
      "See the caveats in the documentation: https://pandas.pydata.org/pandas-docs/stable/user_guide/indexing.html#returning-a-view-versus-a-copy\n",
      "  phd_positions_future['parsed_deadline'] = phd_positions_future['parsed_deadline'].apply(\n"
     ]
    },
    {
     "data": {
      "text/plain": [
       "(755, 9)"
      ]
     },
     "execution_count": 37,
     "metadata": {},
     "output_type": "execute_result"
    }
   ],
   "source": [
    "# Today's date\n",
    "today = pd.Timestamp('today').normalize()\n",
    "\n",
    "# Apply parsing\n",
    "phd_positions['parsed_deadline'] = phd_positions['application_deadline'].apply(parse_deadline)\n",
    "\n",
    "# Filter out past deadlines (excluding \"Open until filled\")\n",
    "phd_positions_future = phd_positions[\n",
    "    (phd_positions['parsed_deadline'] == 'Open until filled') |\n",
    "    (pd.to_datetime(phd_positions['parsed_deadline'], errors='coerce') >= today)\n",
    "]\n",
    "\n",
    "# Convert to consistent string format (e.g., YYYY-MM-DD)\n",
    "phd_positions_future['parsed_deadline'] = phd_positions_future['parsed_deadline'].apply(\n",
    "    lambda x: x if x == 'Open until filled' else pd.to_datetime(x).strftime('%Y-%m-%d')\n",
    ")\n",
    "\n",
    "phd_positions_future.shape"
   ]
  },
  {
   "cell_type": "markdown",
   "id": "c958f819",
   "metadata": {},
   "source": [
    "### Delete all rows that are double entries"
   ]
  },
  {
   "cell_type": "code",
   "execution_count": 38,
   "id": "90ff0f6f",
   "metadata": {},
   "outputs": [
    {
     "data": {
      "text/plain": [
       "(151, 9)"
      ]
     },
     "execution_count": 38,
     "metadata": {},
     "output_type": "execute_result"
    }
   ],
   "source": [
    "# delete double entries\n",
    "phd_positions_future = phd_positions_future.drop_duplicates(subset=['title', 'university', 'parsed_deadline', 'description'])\n",
    "\n",
    "phd_positions_future.shape"
   ]
  },
  {
   "cell_type": "markdown",
   "id": "c26edddb",
   "metadata": {},
   "source": [
    "## Filtering out the positions one is interested in"
   ]
  },
  {
   "cell_type": "code",
   "execution_count": 39,
   "id": "bb53200a",
   "metadata": {},
   "outputs": [
    {
     "data": {
      "text/html": [
       "<div>\n",
       "<style scoped>\n",
       "    .dataframe tbody tr th:only-of-type {\n",
       "        vertical-align: middle;\n",
       "    }\n",
       "\n",
       "    .dataframe tbody tr th {\n",
       "        vertical-align: top;\n",
       "    }\n",
       "\n",
       "    .dataframe thead th {\n",
       "        text-align: right;\n",
       "    }\n",
       "</style>\n",
       "<table border=\"1\" class=\"dataframe\">\n",
       "  <thead>\n",
       "    <tr style=\"text-align: right;\">\n",
       "      <th></th>\n",
       "      <th>title</th>\n",
       "      <th>description</th>\n",
       "      <th>application_deadline</th>\n",
       "      <th>application_link</th>\n",
       "      <th>source_url</th>\n",
       "      <th>university</th>\n",
       "      <th>town</th>\n",
       "      <th>country</th>\n",
       "      <th>parsed_deadline</th>\n",
       "      <th>search_text</th>\n",
       "    </tr>\n",
       "  </thead>\n",
       "  <tbody>\n",
       "    <tr>\n",
       "      <th>4</th>\n",
       "      <td>1. Fully Funded PhD Position in sustainable AI...</td>\n",
       "      <td>The rapid growth of artificial intelligence (A...</td>\n",
       "      <td>31.10.2025</td>\n",
       "      <td>https://www.aalto.fi/en/open-positions/doctora...</td>\n",
       "      <td>https://fellowshipbard.com/14-fully-funded-phd...</td>\n",
       "      <td>Aalto University</td>\n",
       "      <td>Espoo</td>\n",
       "      <td>Finland</td>\n",
       "      <td>2025-10-31</td>\n",
       "      <td>1. fully funded phd position in sustainable ai...</td>\n",
       "    </tr>\n",
       "    <tr>\n",
       "      <th>5</th>\n",
       "      <td>2.Fully Funded PhD Position in Computational S...</td>\n",
       "      <td>Our goal is to advance social AI, i.e. artific...</td>\n",
       "      <td>30.9.2025</td>\n",
       "      <td>https://www.aalto.fi/en/open-positions/doctora...</td>\n",
       "      <td>https://fellowshipbard.com/14-fully-funded-phd...</td>\n",
       "      <td>Aalto University</td>\n",
       "      <td>Espoo</td>\n",
       "      <td>Finland</td>\n",
       "      <td>2025-09-30</td>\n",
       "      <td>2.fully funded phd position in computational s...</td>\n",
       "    </tr>\n",
       "    <tr>\n",
       "      <th>7</th>\n",
       "      <td>4.Fully Funded PhD Position in Experimental st...</td>\n",
       "      <td>This project investigates the combustion chara...</td>\n",
       "      <td>27.8.2025</td>\n",
       "      <td>https://www.aalto.fi/en/open-positions/doctora...</td>\n",
       "      <td>https://fellowshipbard.com/14-fully-funded-phd...</td>\n",
       "      <td>Aalto University</td>\n",
       "      <td>Espoo</td>\n",
       "      <td>Finland</td>\n",
       "      <td>2025-08-27</td>\n",
       "      <td>4.fully funded phd position in experimental st...</td>\n",
       "    </tr>\n",
       "    <tr>\n",
       "      <th>8</th>\n",
       "      <td>5.Fully Funded PhD Position in Wood-based Func...</td>\n",
       "      <td>A four-year Doctoral Researcher position is av...</td>\n",
       "      <td>15.8.2025</td>\n",
       "      <td>https://www.aalto.fi/en/open-positions/doctora...</td>\n",
       "      <td>https://fellowshipbard.com/14-fully-funded-phd...</td>\n",
       "      <td>Aalto University</td>\n",
       "      <td>Espoo</td>\n",
       "      <td>Finland</td>\n",
       "      <td>2025-08-15</td>\n",
       "      <td>5.fully funded phd position in wood-based func...</td>\n",
       "    </tr>\n",
       "    <tr>\n",
       "      <th>11</th>\n",
       "      <td>8. 03Fully Funded PhD Position in Machine-Lear...</td>\n",
       "      <td>The Data-driven Atomistic Simulation (DAS) gro...</td>\n",
       "      <td>31.7.2025</td>\n",
       "      <td>https://www.aalto.fi/en/open-positions/three-d...</td>\n",
       "      <td>https://fellowshipbard.com/14-fully-funded-phd...</td>\n",
       "      <td>Aalto University</td>\n",
       "      <td>Espoo</td>\n",
       "      <td>Finland</td>\n",
       "      <td>2025-07-31</td>\n",
       "      <td>8. 03fully funded phd position in machine-lear...</td>\n",
       "    </tr>\n",
       "  </tbody>\n",
       "</table>\n",
       "</div>"
      ],
      "text/plain": [
       "                                                title  \\\n",
       "4   1. Fully Funded PhD Position in sustainable AI...   \n",
       "5   2.Fully Funded PhD Position in Computational S...   \n",
       "7   4.Fully Funded PhD Position in Experimental st...   \n",
       "8   5.Fully Funded PhD Position in Wood-based Func...   \n",
       "11  8. 03Fully Funded PhD Position in Machine-Lear...   \n",
       "\n",
       "                                          description application_deadline  \\\n",
       "4   The rapid growth of artificial intelligence (A...           31.10.2025   \n",
       "5   Our goal is to advance social AI, i.e. artific...            30.9.2025   \n",
       "7   This project investigates the combustion chara...            27.8.2025   \n",
       "8   A four-year Doctoral Researcher position is av...            15.8.2025   \n",
       "11  The Data-driven Atomistic Simulation (DAS) gro...            31.7.2025   \n",
       "\n",
       "                                     application_link  \\\n",
       "4   https://www.aalto.fi/en/open-positions/doctora...   \n",
       "5   https://www.aalto.fi/en/open-positions/doctora...   \n",
       "7   https://www.aalto.fi/en/open-positions/doctora...   \n",
       "8   https://www.aalto.fi/en/open-positions/doctora...   \n",
       "11  https://www.aalto.fi/en/open-positions/three-d...   \n",
       "\n",
       "                                           source_url        university  \\\n",
       "4   https://fellowshipbard.com/14-fully-funded-phd...  Aalto University   \n",
       "5   https://fellowshipbard.com/14-fully-funded-phd...  Aalto University   \n",
       "7   https://fellowshipbard.com/14-fully-funded-phd...  Aalto University   \n",
       "8   https://fellowshipbard.com/14-fully-funded-phd...  Aalto University   \n",
       "11  https://fellowshipbard.com/14-fully-funded-phd...  Aalto University   \n",
       "\n",
       "     town  country parsed_deadline  \\\n",
       "4   Espoo  Finland      2025-10-31   \n",
       "5   Espoo  Finland      2025-09-30   \n",
       "7   Espoo  Finland      2025-08-27   \n",
       "8   Espoo  Finland      2025-08-15   \n",
       "11  Espoo  Finland      2025-07-31   \n",
       "\n",
       "                                          search_text  \n",
       "4   1. fully funded phd position in sustainable ai...  \n",
       "5   2.fully funded phd position in computational s...  \n",
       "7   4.fully funded phd position in experimental st...  \n",
       "8   5.fully funded phd position in wood-based func...  \n",
       "11  8. 03fully funded phd position in machine-lear...  "
      ]
     },
     "execution_count": 39,
     "metadata": {},
     "output_type": "execute_result"
    }
   ],
   "source": [
    "# Combine title and description, convert to lowercase\n",
    "phd_positions_future['search_text'] = (phd_positions_future['title'] + ' ' + phd_positions_future['description']).str.lower()\n",
    "\n",
    "# Create keyword match mask\n",
    "keyword_mask = phd_positions_future['search_text'].apply(lambda x: any(kw.lower() in x for kw in keywords))\n",
    "\n",
    "# Create country exclusion mask\n",
    "country_mask = ~phd_positions_future['country'].isin(excluded_countries)\n",
    "\n",
    "# Apply both filters\n",
    "phd_positions_filtered = phd_positions_future[keyword_mask & country_mask]\n",
    "\n",
    "phd_positions_filtered.head()"
   ]
  },
  {
   "cell_type": "code",
   "execution_count": 40,
   "id": "4e4ec056",
   "metadata": {},
   "outputs": [
    {
     "name": "stdout",
     "output_type": "stream",
     "text": [
      "Saved 63 PhD positions to: filtered_phd_positions.txt\n"
     ]
    }
   ],
   "source": [
    "# Define the output file\n",
    "output_file = 'filtered_phd_positions.txt'\n",
    "index = 1\n",
    "\n",
    "# Open file for writing\n",
    "with open(output_file, 'w', encoding='utf-8') as f:\n",
    "    for idx, row in phd_positions_filtered.iterrows():\n",
    "        # remove leading numbers in title\n",
    "        clean_title = re.sub(r'^\\s*\\d+\\.\\s*', '', row['title'])\n",
    "        # Wrap title and description\n",
    "        wrapped_title = textwrap.fill(clean_title, width=80)\n",
    "        wrapped_description = textwrap.fill(row['description'], width=80)\n",
    "\n",
    "        # Build the formatted entry\n",
    "        entry = (\n",
    "            f\"{'='*100}\\n\"\n",
    "            f\"PhD Position {index}\\n\"\n",
    "            f\"Title:\\n{wrapped_title}\\n\\n\"\n",
    "            f\"University: {row['university']}\\n\"\n",
    "            f\"Country: {row['country']}\\n\"\n",
    "            f\"Town: {row['town']}\\n\"\n",
    "            f\"Deadline: {row['parsed_deadline']}\\n\"\n",
    "            f\"Application Link: {row.get('application_link', 'N/A')}\\n\\n\"\n",
    "            f\"Description:\\n{wrapped_description}\\n\"\n",
    "        )\n",
    "\n",
    "        # Write to file\n",
    "        f.write(entry + \"\\n\")\n",
    "        index += 1\n",
    "\n",
    "print(f\"Saved {index-1} PhD positions to: {output_file}\")"
   ]
  }
 ],
 "metadata": {
  "kernelspec": {
   "display_name": "phd_scraper",
   "language": "python",
   "name": "python3"
  },
  "language_info": {
   "codemirror_mode": {
    "name": "ipython",
    "version": 3
   },
   "file_extension": ".py",
   "mimetype": "text/x-python",
   "name": "python",
   "nbconvert_exporter": "python",
   "pygments_lexer": "ipython3",
   "version": "3.11.9"
  }
 },
 "nbformat": 4,
 "nbformat_minor": 5
}
