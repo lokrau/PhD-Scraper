{
 "cells": [
  {
   "cell_type": "markdown",
   "id": "53fc9f2d",
   "metadata": {},
   "source": [
    "# Notebook to use the data got from the PhD scraper"
   ]
  },
  {
   "cell_type": "markdown",
   "id": "65eccb6d",
   "metadata": {},
   "source": [
    "## Define keywords of interest and countries to exclude"
   ]
  },
  {
   "cell_type": "code",
   "execution_count": 21,
   "id": "80f1202e",
   "metadata": {},
   "outputs": [],
   "source": [
    "keywords = ['computer vision', 'deep learning', 'machine learning', 'ML', 'AI', 'artificial intelligence']  # <- CUSTOMIZE THIS\n",
    "excluded_countries = ['England']  # <- CUSTOMIZE THIS\n",
    "included_countries = ['Switzerland']  # <- CUSTOMIZE THIS (Overrides excluded_countries)"
   ]
  },
  {
   "cell_type": "markdown",
   "id": "bcb1c407",
   "metadata": {},
   "source": [
    "## Imports and data loading"
   ]
  },
  {
   "cell_type": "code",
   "execution_count": 22,
   "id": "da096a7e",
   "metadata": {},
   "outputs": [],
   "source": [
    "# Imports\n",
    "import pandas as pd\n",
    "import textwrap\n",
    "import re\n",
    "import os\n",
    "\n",
    "from dateutil import parser"
   ]
  },
  {
   "cell_type": "code",
   "execution_count": 23,
   "id": "db372d88",
   "metadata": {},
   "outputs": [
    {
     "data": {
      "text/html": [
       "<div>\n",
       "<style scoped>\n",
       "    .dataframe tbody tr th:only-of-type {\n",
       "        vertical-align: middle;\n",
       "    }\n",
       "\n",
       "    .dataframe tbody tr th {\n",
       "        vertical-align: top;\n",
       "    }\n",
       "\n",
       "    .dataframe thead th {\n",
       "        text-align: right;\n",
       "    }\n",
       "</style>\n",
       "<table border=\"1\" class=\"dataframe\">\n",
       "  <thead>\n",
       "    <tr style=\"text-align: right;\">\n",
       "      <th></th>\n",
       "      <th>university</th>\n",
       "      <th>title</th>\n",
       "      <th>description</th>\n",
       "      <th>application_deadline</th>\n",
       "      <th>application_link</th>\n",
       "      <th>source_url</th>\n",
       "    </tr>\n",
       "  </thead>\n",
       "  <tbody>\n",
       "    <tr>\n",
       "      <th>0</th>\n",
       "      <td>10 Fully Funded PhD Programs at University of ...</td>\n",
       "      <td>1. Fully Funded PhD Position in Systems pathol...</td>\n",
       "      <td>Being overweight is a known risk factor for de...</td>\n",
       "      <td>17 August 2025</td>\n",
       "      <td>https://www.jobs.cam.ac.uk/job/51872/</td>\n",
       "      <td>https://fellowshipbard.com/10-fully-funded-phd...</td>\n",
       "    </tr>\n",
       "    <tr>\n",
       "      <th>1</th>\n",
       "      <td>10 Fully Funded PhD Programs at University of ...</td>\n",
       "      <td>2.Fully Funded PhD Position in Small Animal Su...</td>\n",
       "      <td>You will help to facilitate the smooth running...</td>\n",
       "      <td>31 July 2025</td>\n",
       "      <td>https://www.jobs.cam.ac.uk/job/51451/</td>\n",
       "      <td>https://fellowshipbard.com/10-fully-funded-phd...</td>\n",
       "    </tr>\n",
       "    <tr>\n",
       "      <th>2</th>\n",
       "      <td>10 Fully Funded PhD Programs at University of ...</td>\n",
       "      <td>3. 06Fully Funded PhD Position in Small Animal...</td>\n",
       "      <td>Junior Clinical Training Scholars will receive...</td>\n",
       "      <td>16 July 2025</td>\n",
       "      <td>https://www.jobs.cam.ac.uk/job/51450/</td>\n",
       "      <td>https://fellowshipbard.com/10-fully-funded-phd...</td>\n",
       "    </tr>\n",
       "    <tr>\n",
       "      <th>3</th>\n",
       "      <td>10 Fully Funded PhD Programs at University of ...</td>\n",
       "      <td>4.Fully Funded PhD Position in Identifying nov...</td>\n",
       "      <td>Malaria, caused by Plasmodium parasites and tr...</td>\n",
       "      <td>13 July 2025</td>\n",
       "      <td>https://www.jobs.cam.ac.uk/job/51587/</td>\n",
       "      <td>https://fellowshipbard.com/10-fully-funded-phd...</td>\n",
       "    </tr>\n",
       "    <tr>\n",
       "      <th>4</th>\n",
       "      <td>14 Fully Funded PhD Programs at Aalto Universi...</td>\n",
       "      <td>1. Fully Funded PhD Position in sustainable AI...</td>\n",
       "      <td>The rapid growth of artificial intelligence (A...</td>\n",
       "      <td>31.10.2025</td>\n",
       "      <td>https://www.aalto.fi/en/open-positions/doctora...</td>\n",
       "      <td>https://fellowshipbard.com/14-fully-funded-phd...</td>\n",
       "    </tr>\n",
       "  </tbody>\n",
       "</table>\n",
       "</div>"
      ],
      "text/plain": [
       "                                          university  \\\n",
       "0  10 Fully Funded PhD Programs at University of ...   \n",
       "1  10 Fully Funded PhD Programs at University of ...   \n",
       "2  10 Fully Funded PhD Programs at University of ...   \n",
       "3  10 Fully Funded PhD Programs at University of ...   \n",
       "4  14 Fully Funded PhD Programs at Aalto Universi...   \n",
       "\n",
       "                                               title  \\\n",
       "0  1. Fully Funded PhD Position in Systems pathol...   \n",
       "1  2.Fully Funded PhD Position in Small Animal Su...   \n",
       "2  3. 06Fully Funded PhD Position in Small Animal...   \n",
       "3  4.Fully Funded PhD Position in Identifying nov...   \n",
       "4  1. Fully Funded PhD Position in sustainable AI...   \n",
       "\n",
       "                                         description application_deadline  \\\n",
       "0  Being overweight is a known risk factor for de...       17 August 2025   \n",
       "1  You will help to facilitate the smooth running...         31 July 2025   \n",
       "2  Junior Clinical Training Scholars will receive...         16 July 2025   \n",
       "3  Malaria, caused by Plasmodium parasites and tr...         13 July 2025   \n",
       "4  The rapid growth of artificial intelligence (A...           31.10.2025   \n",
       "\n",
       "                                    application_link  \\\n",
       "0              https://www.jobs.cam.ac.uk/job/51872/   \n",
       "1              https://www.jobs.cam.ac.uk/job/51451/   \n",
       "2              https://www.jobs.cam.ac.uk/job/51450/   \n",
       "3              https://www.jobs.cam.ac.uk/job/51587/   \n",
       "4  https://www.aalto.fi/en/open-positions/doctora...   \n",
       "\n",
       "                                          source_url  \n",
       "0  https://fellowshipbard.com/10-fully-funded-phd...  \n",
       "1  https://fellowshipbard.com/10-fully-funded-phd...  \n",
       "2  https://fellowshipbard.com/10-fully-funded-phd...  \n",
       "3  https://fellowshipbard.com/10-fully-funded-phd...  \n",
       "4  https://fellowshipbard.com/14-fully-funded-phd...  "
      ]
     },
     "execution_count": 23,
     "metadata": {},
     "output_type": "execute_result"
    }
   ],
   "source": [
    "# Loading Data\n",
    "phd_positions = pd.read_csv(\"data/phd_positions.csv\")\n",
    "phd_positions.head()"
   ]
  },
  {
   "cell_type": "markdown",
   "id": "2439a293",
   "metadata": {},
   "source": [
    "## Basic cleaning"
   ]
  },
  {
   "cell_type": "markdown",
   "id": "07c5a654",
   "metadata": {},
   "source": [
    "### Split the 'university' column into 'university', 'town', and 'country'"
   ]
  },
  {
   "cell_type": "code",
   "execution_count": 24,
   "id": "ca337cc1",
   "metadata": {},
   "outputs": [],
   "source": [
    "# Extract the University after \"at\" the last two comma-separated parts as town and country\n",
    "phd_positions[['university_clean', 'town', 'country']] = phd_positions['university'].str.extract(r'at (.*),\\s*([^,]+),\\s*([^,]+)$')\n",
    "phd_positions.drop(columns=['university'], inplace=True)\n",
    "\n",
    "# Keep only the university name in the 'university_clean' column\n",
    "phd_positions = phd_positions.rename(columns={'university_clean': 'university'})"
   ]
  },
  {
   "cell_type": "markdown",
   "id": "c457cd71",
   "metadata": {},
   "source": [
    "### Delete rows where the 'application_deadline' is in the past"
   ]
  },
  {
   "cell_type": "code",
   "execution_count": 25,
   "id": "fa6fa943",
   "metadata": {},
   "outputs": [
    {
     "data": {
      "text/plain": [
       "(930, 8)"
      ]
     },
     "execution_count": 25,
     "metadata": {},
     "output_type": "execute_result"
    }
   ],
   "source": [
    "phd_positions.shape"
   ]
  },
  {
   "cell_type": "code",
   "execution_count": 26,
   "id": "b6c11429",
   "metadata": {},
   "outputs": [],
   "source": [
    "# function to parse the application deadline\n",
    "def parse_deadline(val):\n",
    "    if isinstance(val, str) and 'open until filled' in val.lower():\n",
    "        return 'Open until filled'\n",
    "    try:\n",
    "        # Use dateutil.parser to handle various date formats\n",
    "        return parser.parse(val, fuzzy=True).date()\n",
    "    except:\n",
    "        return pd.NaT"
   ]
  },
  {
   "cell_type": "code",
   "execution_count": 27,
   "id": "2bf70047",
   "metadata": {},
   "outputs": [
    {
     "data": {
      "text/plain": [
       "(755, 9)"
      ]
     },
     "execution_count": 27,
     "metadata": {},
     "output_type": "execute_result"
    }
   ],
   "source": [
    "# Today's date\n",
    "today = pd.Timestamp('today').normalize()\n",
    "\n",
    "# Apply parsing\n",
    "phd_positions['parsed_deadline'] = phd_positions['application_deadline'].apply(parse_deadline)\n",
    "\n",
    "# Filter out past deadlines (excluding \"Open until filled\")\n",
    "phd_positions_future = phd_positions[\n",
    "    (phd_positions['parsed_deadline'] == 'Open until filled') |\n",
    "    (pd.to_datetime(phd_positions['parsed_deadline'], errors='coerce') >= today)\n",
    "].copy()\n",
    "\n",
    "# Convert to consistent string format (e.g., YYYY-MM-DD)\n",
    "phd_positions_future['parsed_deadline'] = phd_positions_future['parsed_deadline'].apply(\n",
    "    lambda x: x if x == 'Open until filled' else pd.to_datetime(x).strftime('%Y-%m-%d')\n",
    ")\n",
    "\n",
    "phd_positions_future.shape"
   ]
  },
  {
   "cell_type": "markdown",
   "id": "c958f819",
   "metadata": {},
   "source": [
    "### Delete all rows that are double entries"
   ]
  },
  {
   "cell_type": "code",
   "execution_count": 28,
   "id": "90ff0f6f",
   "metadata": {},
   "outputs": [
    {
     "data": {
      "text/plain": [
       "(151, 9)"
      ]
     },
     "execution_count": 28,
     "metadata": {},
     "output_type": "execute_result"
    }
   ],
   "source": [
    "# delete double entries\n",
    "phd_positions_future = phd_positions_future.drop_duplicates(subset=['title', 'university', 'parsed_deadline', 'description'])\n",
    "\n",
    "phd_positions_future.shape"
   ]
  },
  {
   "cell_type": "markdown",
   "id": "c26edddb",
   "metadata": {},
   "source": [
    "## Filtering out the positions one is interested in"
   ]
  },
  {
   "cell_type": "code",
   "execution_count": 29,
   "id": "bb53200a",
   "metadata": {},
   "outputs": [
    {
     "data": {
      "text/html": [
       "<div>\n",
       "<style scoped>\n",
       "    .dataframe tbody tr th:only-of-type {\n",
       "        vertical-align: middle;\n",
       "    }\n",
       "\n",
       "    .dataframe tbody tr th {\n",
       "        vertical-align: top;\n",
       "    }\n",
       "\n",
       "    .dataframe thead th {\n",
       "        text-align: right;\n",
       "    }\n",
       "</style>\n",
       "<table border=\"1\" class=\"dataframe\">\n",
       "  <thead>\n",
       "    <tr style=\"text-align: right;\">\n",
       "      <th></th>\n",
       "      <th>title</th>\n",
       "      <th>description</th>\n",
       "      <th>application_deadline</th>\n",
       "      <th>application_link</th>\n",
       "      <th>source_url</th>\n",
       "      <th>university</th>\n",
       "      <th>town</th>\n",
       "      <th>country</th>\n",
       "      <th>parsed_deadline</th>\n",
       "      <th>search_text</th>\n",
       "    </tr>\n",
       "  </thead>\n",
       "  <tbody>\n",
       "    <tr>\n",
       "      <th>138</th>\n",
       "      <td>2.Fully Funded PhD Position in modeling fractu...</td>\n",
       "      <td>The Computational Mechanics of Building Materi...</td>\n",
       "      <td>Open until filled</td>\n",
       "      <td>https://jobs.ethz.ch/job/view/JOPG_ethz_Npzgf4...</td>\n",
       "      <td>https://fellowshipbard.com/12-fully-funded-phd...</td>\n",
       "      <td>ETH Zurich</td>\n",
       "      <td>Zürich</td>\n",
       "      <td>Switzerland</td>\n",
       "      <td>Open until filled</td>\n",
       "      <td>2.fully funded phd position in modeling fractu...</td>\n",
       "    </tr>\n",
       "    <tr>\n",
       "      <th>139</th>\n",
       "      <td>3.Fully Funded PhD Position in Decentralized R...</td>\n",
       "      <td>The Distributed Computing group at ETH Zurich ...</td>\n",
       "      <td>Open until filled</td>\n",
       "      <td>https://jobs.ethz.ch/job/view/JOPG_ethz_WY2twh...</td>\n",
       "      <td>https://fellowshipbard.com/12-fully-funded-phd...</td>\n",
       "      <td>ETH Zurich</td>\n",
       "      <td>Zürich</td>\n",
       "      <td>Switzerland</td>\n",
       "      <td>Open until filled</td>\n",
       "      <td>3.fully funded phd position in decentralized r...</td>\n",
       "    </tr>\n",
       "    <tr>\n",
       "      <th>140</th>\n",
       "      <td>4.Fully Funded PhD Position in Biomedical Robo...</td>\n",
       "      <td>Hydrocephalus is a severe and common neurologi...</td>\n",
       "      <td>Open until filled</td>\n",
       "      <td>https://jobs.ethz.ch/job/view/JOPG_ethz_iBLZIr...</td>\n",
       "      <td>https://fellowshipbard.com/12-fully-funded-phd...</td>\n",
       "      <td>ETH Zurich</td>\n",
       "      <td>Zürich</td>\n",
       "      <td>Switzerland</td>\n",
       "      <td>Open until filled</td>\n",
       "      <td>4.fully funded phd position in biomedical robo...</td>\n",
       "    </tr>\n",
       "    <tr>\n",
       "      <th>141</th>\n",
       "      <td>5.Fully Funded PhD Position in Seed Pathogens ...</td>\n",
       "      <td>The reproduction of many plants is characteriz...</td>\n",
       "      <td>Open until filled</td>\n",
       "      <td>https://jobs.ethz.ch/job/view/JOPG_ethz_XLdEZk...</td>\n",
       "      <td>https://fellowshipbard.com/12-fully-funded-phd...</td>\n",
       "      <td>ETH Zurich</td>\n",
       "      <td>Zürich</td>\n",
       "      <td>Switzerland</td>\n",
       "      <td>Open until filled</td>\n",
       "      <td>5.fully funded phd position in seed pathogens ...</td>\n",
       "    </tr>\n",
       "    <tr>\n",
       "      <th>144</th>\n",
       "      <td>8.Fully Funded PhD Position in quantum metamat...</td>\n",
       "      <td>The PhD project aims to develop a solution-der...</td>\n",
       "      <td>August 10th 2025</td>\n",
       "      <td>https://jobs.ethz.ch/job/view/JOPG_ethz_tVhBwH...</td>\n",
       "      <td>https://fellowshipbard.com/12-fully-funded-phd...</td>\n",
       "      <td>ETH Zurich</td>\n",
       "      <td>Zürich</td>\n",
       "      <td>Switzerland</td>\n",
       "      <td>2025-08-10</td>\n",
       "      <td>8.fully funded phd position in quantum metamat...</td>\n",
       "    </tr>\n",
       "  </tbody>\n",
       "</table>\n",
       "</div>"
      ],
      "text/plain": [
       "                                                 title  \\\n",
       "138  2.Fully Funded PhD Position in modeling fractu...   \n",
       "139  3.Fully Funded PhD Position in Decentralized R...   \n",
       "140  4.Fully Funded PhD Position in Biomedical Robo...   \n",
       "141  5.Fully Funded PhD Position in Seed Pathogens ...   \n",
       "144  8.Fully Funded PhD Position in quantum metamat...   \n",
       "\n",
       "                                           description application_deadline  \\\n",
       "138  The Computational Mechanics of Building Materi...    Open until filled   \n",
       "139  The Distributed Computing group at ETH Zurich ...    Open until filled   \n",
       "140  Hydrocephalus is a severe and common neurologi...    Open until filled   \n",
       "141  The reproduction of many plants is characteriz...    Open until filled   \n",
       "144  The PhD project aims to develop a solution-der...     August 10th 2025   \n",
       "\n",
       "                                      application_link  \\\n",
       "138  https://jobs.ethz.ch/job/view/JOPG_ethz_Npzgf4...   \n",
       "139  https://jobs.ethz.ch/job/view/JOPG_ethz_WY2twh...   \n",
       "140  https://jobs.ethz.ch/job/view/JOPG_ethz_iBLZIr...   \n",
       "141  https://jobs.ethz.ch/job/view/JOPG_ethz_XLdEZk...   \n",
       "144  https://jobs.ethz.ch/job/view/JOPG_ethz_tVhBwH...   \n",
       "\n",
       "                                            source_url  university    town  \\\n",
       "138  https://fellowshipbard.com/12-fully-funded-phd...  ETH Zurich  Zürich   \n",
       "139  https://fellowshipbard.com/12-fully-funded-phd...  ETH Zurich  Zürich   \n",
       "140  https://fellowshipbard.com/12-fully-funded-phd...  ETH Zurich  Zürich   \n",
       "141  https://fellowshipbard.com/12-fully-funded-phd...  ETH Zurich  Zürich   \n",
       "144  https://fellowshipbard.com/12-fully-funded-phd...  ETH Zurich  Zürich   \n",
       "\n",
       "         country    parsed_deadline  \\\n",
       "138  Switzerland  Open until filled   \n",
       "139  Switzerland  Open until filled   \n",
       "140  Switzerland  Open until filled   \n",
       "141  Switzerland  Open until filled   \n",
       "144  Switzerland         2025-08-10   \n",
       "\n",
       "                                           search_text  \n",
       "138  2.fully funded phd position in modeling fractu...  \n",
       "139  3.fully funded phd position in decentralized r...  \n",
       "140  4.fully funded phd position in biomedical robo...  \n",
       "141  5.fully funded phd position in seed pathogens ...  \n",
       "144  8.fully funded phd position in quantum metamat...  "
      ]
     },
     "execution_count": 29,
     "metadata": {},
     "output_type": "execute_result"
    }
   ],
   "source": [
    "# Combine title and description, convert to lowercase\n",
    "phd_positions_future['search_text'] = (phd_positions_future['title'] + ' ' + phd_positions_future['description']).str.lower()\n",
    "\n",
    "# Create keyword match mask\n",
    "keyword_mask = phd_positions_future['search_text'].apply(lambda x: any(kw.lower() in x for kw in keywords))\n",
    "\n",
    "# Determine country mask based on inclusion or exclusion\n",
    "if included_countries:\n",
    "    country_mask = phd_positions_future['country'].isin(included_countries)\n",
    "else:\n",
    "    country_mask = ~phd_positions_future['country'].isin(excluded_countries)\n",
    "\n",
    "# Apply both filters\n",
    "phd_positions_filtered = phd_positions_future[keyword_mask & country_mask]\n",
    "\n",
    "phd_positions_filtered.head()"
   ]
  },
  {
   "cell_type": "code",
   "execution_count": 30,
   "id": "4e4ec056",
   "metadata": {},
   "outputs": [
    {
     "name": "stdout",
     "output_type": "stream",
     "text": [
      "Saved 5 PhD positions to: output/filtered_phd_positions.txt\n"
     ]
    }
   ],
   "source": [
    "# Define the output file\n",
    "output_file = 'output/filtered_phd_positions.txt'\n",
    "index = 1\n",
    "\n",
    "# make the output directory if it does not exist\n",
    "os.makedirs(\"output\", exist_ok=True)\n",
    "\n",
    "# Open file for writing\n",
    "with open(output_file, 'w', encoding='utf-8') as f:\n",
    "    for idx, row in phd_positions_filtered.iterrows():\n",
    "        # remove leading numbers in title\n",
    "        clean_title = re.sub(r'^\\s*\\d+\\.\\s*', '', row['title'])\n",
    "        # Wrap title and description\n",
    "        wrapped_title = textwrap.fill(clean_title, width=80)\n",
    "        wrapped_description = textwrap.fill(row['description'], width=80)\n",
    "\n",
    "        # Build the formatted entry\n",
    "        entry = (\n",
    "            f\"{'='*100}\\n\"\n",
    "            f\"PhD Position {index}\\n\"\n",
    "            f\"Title:\\n{wrapped_title}\\n\\n\"\n",
    "            f\"University: {row['university']}\\n\"\n",
    "            f\"Country: {row['country']}\\n\"\n",
    "            f\"Town: {row['town']}\\n\"\n",
    "            f\"Deadline: {row['parsed_deadline']}\\n\"\n",
    "            f\"Application Link: {row.get('application_link', 'N/A')}\\n\\n\"\n",
    "            f\"Description:\\n{wrapped_description}\\n\"\n",
    "        )\n",
    "\n",
    "        # Write to file\n",
    "        f.write(entry + \"\\n\")\n",
    "        index += 1\n",
    "\n",
    "print(f\"Saved {index-1} PhD positions to: {output_file}\")"
   ]
  }
 ],
 "metadata": {
  "kernelspec": {
   "display_name": "phd_scraper",
   "language": "python",
   "name": "python3"
  },
  "language_info": {
   "codemirror_mode": {
    "name": "ipython",
    "version": 3
   },
   "file_extension": ".py",
   "mimetype": "text/x-python",
   "name": "python",
   "nbconvert_exporter": "python",
   "pygments_lexer": "ipython3",
   "version": "3.11.9"
  }
 },
 "nbformat": 4,
 "nbformat_minor": 5
}
