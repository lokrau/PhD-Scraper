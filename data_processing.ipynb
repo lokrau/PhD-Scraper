{
 "cells": [
  {
   "cell_type": "markdown",
   "id": "53fc9f2d",
   "metadata": {},
   "source": [
    "# Notebook to use the data got from the PhD scraper"
   ]
  },
  {
   "cell_type": "markdown",
   "id": "65eccb6d",
   "metadata": {},
   "source": [
    "## Define keywords of interest and countries to exclude"
   ]
  },
  {
   "cell_type": "code",
   "execution_count": null,
   "id": "80f1202e",
   "metadata": {},
   "outputs": [],
   "source": [
    "keywords = ['computer vision', 'deep learning', 'machine learning']  # <- CUSTOMIZE THIS\n",
    "excluded_countries = ['England']  # <- CUSTOMIZE THIS"
   ]
  },
  {
   "cell_type": "markdown",
   "id": "bcb1c407",
   "metadata": {},
   "source": [
    "## Imports and data loading"
   ]
  },
  {
   "cell_type": "code",
   "execution_count": null,
   "id": "da096a7e",
   "metadata": {},
   "outputs": [],
   "source": [
    "# Imports\n",
    "import pandas as pd\n",
    "import datetime\n",
    "import textwrap\n",
    "import re\n",
    "\n",
    "from dateutil import parser"
   ]
  },
  {
   "cell_type": "code",
   "execution_count": null,
   "id": "db372d88",
   "metadata": {},
   "outputs": [],
   "source": [
    "# Loading Data\n",
    "phd_positions = pd.read_csv(\"phd_positions.csv\")\n",
    "phd_positions.head()"
   ]
  },
  {
   "cell_type": "markdown",
   "id": "2439a293",
   "metadata": {},
   "source": [
    "## Basic cleaning"
   ]
  },
  {
   "cell_type": "markdown",
   "id": "07c5a654",
   "metadata": {},
   "source": [
    "### Split the 'university' column into 'university', 'town', and 'country'"
   ]
  },
  {
   "cell_type": "code",
   "execution_count": null,
   "id": "ca337cc1",
   "metadata": {},
   "outputs": [],
   "source": [
    "# Extract the University after \"at\" the last two comma-separated parts as town and country\n",
    "phd_positions[['university_clean', 'town', 'country']] = phd_positions['university'].str.extract(r'at (.*),\\s*([^,]+),\\s*([^,]+)$')\n",
    "phd_positions.drop(columns=['university'], inplace=True)\n",
    "\n",
    "# Keep only the university name in the 'university_clean' column\n",
    "phd_positions = phd_positions.rename(columns={'university_clean': 'university'})"
   ]
  },
  {
   "cell_type": "markdown",
   "id": "c457cd71",
   "metadata": {},
   "source": [
    "### Delete rows where the 'application_deadline' is in the past"
   ]
  },
  {
   "cell_type": "code",
   "execution_count": null,
   "id": "fa6fa943",
   "metadata": {},
   "outputs": [],
   "source": [
    "phd_positions.shape"
   ]
  },
  {
   "cell_type": "code",
   "execution_count": null,
   "id": "b6c11429",
   "metadata": {},
   "outputs": [],
   "source": [
    "# function to parse the application deadline\n",
    "def parse_deadline(val):\n",
    "    if isinstance(val, str) and 'open until filled' in val.lower():\n",
    "        return 'Open until filled'\n",
    "    try:\n",
    "        # Use dateutil.parser to handle various date formats\n",
    "        return parser.parse(val, fuzzy=True).date()\n",
    "    except:\n",
    "        return pd.NaT"
   ]
  },
  {
   "cell_type": "code",
   "execution_count": null,
   "id": "2bf70047",
   "metadata": {},
   "outputs": [],
   "source": [
    "# Today's date\n",
    "today = pd.Timestamp('today').normalize()\n",
    "\n",
    "# Apply parsing\n",
    "phd_positions['parsed_deadline'] = phd_positions['application_deadline'].apply(parse_deadline)\n",
    "\n",
    "# Filter out past deadlines (excluding \"Open until filled\")\n",
    "phd_positions_future = phd_positions[\n",
    "    (phd_positions['parsed_deadline'] == 'Open until filled') |\n",
    "    (pd.to_datetime(phd_positions['parsed_deadline'], errors='coerce') >= today)\n",
    "]\n",
    "\n",
    "# Convert to consistent string format (e.g., YYYY-MM-DD)\n",
    "phd_positions_future['parsed_deadline'] = phd_positions_future['parsed_deadline'].apply(\n",
    "    lambda x: x if x == 'Open until filled' else pd.to_datetime(x).strftime('%Y-%m-%d')\n",
    ")\n",
    "\n",
    "phd_positions_future.shape"
   ]
  },
  {
   "cell_type": "markdown",
   "id": "c958f819",
   "metadata": {},
   "source": [
    "### Delete all rows that are double entries"
   ]
  },
  {
   "cell_type": "code",
   "execution_count": null,
   "id": "90ff0f6f",
   "metadata": {},
   "outputs": [],
   "source": [
    "# delete double entries\n",
    "phd_positions_future = phd_positions_future.drop_duplicates(subset=['title', 'university', 'parsed_deadline', 'description'])\n",
    "\n",
    "phd_positions_future.shape"
   ]
  },
  {
   "cell_type": "markdown",
   "id": "c26edddb",
   "metadata": {},
   "source": [
    "## Filtering out the positions one is interested in"
   ]
  },
  {
   "cell_type": "code",
   "execution_count": null,
   "id": "bb53200a",
   "metadata": {},
   "outputs": [],
   "source": [
    "# Combine title and description, convert to lowercase\n",
    "phd_positions_future['search_text'] = (phd_positions_future['title'] + ' ' + phd_positions_future['description']).str.lower()\n",
    "\n",
    "# Create keyword match mask\n",
    "keyword_mask = phd_positions_future['search_text'].apply(lambda x: any(kw.lower() in x for kw in keywords))\n",
    "\n",
    "# Create country exclusion mask\n",
    "country_mask = ~phd_positions_future['country'].isin(excluded_countries)\n",
    "\n",
    "# Apply both filters\n",
    "phd_positions_filtered = phd_positions_future[keyword_mask & country_mask]\n",
    "\n",
    "phd_positions_filtered.head()"
   ]
  },
  {
   "cell_type": "code",
   "execution_count": null,
   "id": "4e4ec056",
   "metadata": {},
   "outputs": [],
   "source": [
    "# Define the output file\n",
    "output_file = 'filtered_phd_positions.txt'\n",
    "index = 1\n",
    "\n",
    "# Open file for writing\n",
    "with open(output_file, 'w', encoding='utf-8') as f:\n",
    "    for idx, row in phd_positions_filtered.iterrows():\n",
    "        # remove leading numbers in title\n",
    "        clean_title = re.sub(r'^\\s*\\d+\\.\\s*', '', row['title'])\n",
    "        # Wrap title and description\n",
    "        wrapped_title = textwrap.fill(clean_title, width=80)\n",
    "        wrapped_description = textwrap.fill(row['description'], width=80)\n",
    "\n",
    "        # Build the formatted entry\n",
    "        entry = (\n",
    "            f\"{'='*100}\\n\"\n",
    "            f\"PhD Position {index}\\n\"\n",
    "            f\"Title:\\n{wrapped_title}\\n\\n\"\n",
    "            f\"University: {row['university']}\\n\"\n",
    "            f\"Country: {row['country']}\\n\"\n",
    "            f\"Town: {row['town']}\\n\"\n",
    "            f\"Deadline: {row['parsed_deadline']}\\n\"\n",
    "            f\"Application Link: {row.get('application_link', 'N/A')}\\n\\n\"\n",
    "            f\"Description:\\n{wrapped_description}\\n\"\n",
    "        )\n",
    "\n",
    "        # Write to file\n",
    "        f.write(entry + \"\\n\")\n",
    "        index += 1\n",
    "\n",
    "print(f\"Saved {index-1} PhD positions to: {output_file}\")"
   ]
  }
 ],
 "metadata": {
  "kernelspec": {
   "display_name": "phd_scraper",
   "language": "python",
   "name": "python3"
  },
  "language_info": {
   "codemirror_mode": {
    "name": "ipython",
    "version": 3
   },
   "file_extension": ".py",
   "mimetype": "text/x-python",
   "name": "python",
   "nbconvert_exporter": "python",
   "pygments_lexer": "ipython3",
   "version": "3.11.9"
  }
 },
 "nbformat": 4,
 "nbformat_minor": 5
}
